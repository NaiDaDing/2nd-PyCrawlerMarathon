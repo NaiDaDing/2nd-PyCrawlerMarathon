{
 "cells": [
  {
   "cell_type": "markdown",
   "metadata": {},
   "source": [
    "# YAHOO電影爬蟲練習\n",
    "## 練習爬取電影放映資訊。必須逐步獲取電影的代號、放映地區、放映日期後，再送出查詢給伺服器。"
   ]
  },
  {
   "cell_type": "code",
   "execution_count": 1,
   "metadata": {},
   "outputs": [],
   "source": [
    "import requests\n",
    "import re\n",
    "from bs4 import BeautifulSoup"
   ]
  },
  {
   "cell_type": "markdown",
   "metadata": {},
   "source": [
    "### 先搜尋全部的電影代號(ID)資訊"
   ]
  },
  {
   "cell_type": "code",
   "execution_count": 4,
   "metadata": {},
   "outputs": [
    {
     "name": "stdout",
     "output_type": "stream",
     "text": [
      "Movie: 特斯拉, ID: 10942\n",
      "Movie: 解密達文西, ID: 10938\n",
      "Movie: 遺落夢境, ID: 10937\n",
      "Movie: 麻雀放浪記2020, ID: 10928\n",
      "Movie: 交響狂人, ID: 10922\n",
      "Movie: 阿公當家, ID: 10914\n",
      "Movie: 刻在你心底的名字, ID: 10902\n",
      "Movie: 剪刀手愛德華, ID: 10901\n",
      "Movie: 森林特攻隊：大腳ㄚ家族, ID: 10894\n",
      "Movie: 捉魂鏡, ID: 10866\n",
      "Movie: 急先鋒, ID: 10443\n",
      "Movie: 紫羅蘭永恆花園電影版, ID: 10431\n",
      "Movie: 性之劇藥, ID: 10947\n",
      "Movie: 重啟咲良田 後篇, ID: 10944\n",
      "Movie: 重啟咲良田 前篇, ID: 10943\n",
      "Movie: 叢林拳霸, ID: 10930\n",
      "Movie: 情慾對決, ID: 10929\n",
      "Movie: 殺戮荒村, ID: 10903\n",
      "Movie: 電影哆啦A夢：大雄的新恐龍, ID: 10891\n",
      "Movie: 法蒂瑪的奇蹟, ID: 10882\n",
      "Movie: 太陽之家, ID: 10844\n",
      "Movie: 少女與戰車最終章第2話, ID: 10923\n",
      "Movie: 皮諾丘的奇幻旅程, ID: 10921\n",
      "Movie: 惡之畫, ID: 10913\n",
      "Movie: 寂寞調香師, ID: 10905\n",
      "Movie: 名偵探奶奶, ID: 10893\n",
      "Movie: 重裝救援：全境獵殺, ID: 10892\n",
      "Movie: 整容液, ID: 10889\n",
      "Movie: 啊，荒野 後篇, ID: 10884\n",
      "Movie: 消失的情人節, ID: 10870\n",
      "Movie: 鋼琴師, ID: 10862\n",
      "Movie: 麥路人, ID: 10900\n",
      "Movie: 訂製幸福滋味, ID: 10908\n",
      "Movie: 中央車站：數位修復版, ID: 10907\n",
      "Movie: 教會, ID: 10899\n",
      "Movie: 密弒直播, ID: 10888\n",
      "Movie: 特務搞飛機, ID: 10886\n",
      "Movie: 蠟筆小新：激戰！塗鴉王國與差不多四勇者, ID: 10874\n",
      "Movie: 海霧, ID: 10872\n",
      "Movie: 蘿莉破壞王, ID: 10776\n",
      "Movie: 顫役輪迴, ID: 10544\n",
      "Movie: 退休大贏家, ID: 10920\n",
      "Movie: 我是大哥大！！劇場版, ID: 10871\n",
      "Movie: 德州電鋸殺人狂前傳：皮面人, ID: 10847\n",
      "Movie: 花木蘭, ID: 8632\n",
      "Movie: 馗降：粽邪2, ID: 10787\n",
      "Movie: 美麗佳人歐蘭朵, ID: 10876\n",
      "Movie: 蘇州河, ID: 10858\n",
      "Movie: 變種人, ID: 10452\n",
      "Movie: TENET天能, ID: 10433\n",
      "Movie: 初心, ID: 10837\n",
      "Movie: 可不可以，你也剛好喜歡我, ID: 10473\n",
      "Movie: 東京教父：4K數位修復版, ID: 10860\n",
      "Movie: 劇場版 新幹線變形機器人—來自未來的神速ALFA-X, ID: 10823\n",
      "Movie: 逃出立法院, ID: 10535\n",
      "Movie: 天劫倒數, ID: 10850\n",
      "Movie: 隱藏的畫家, ID: 10841\n",
      "Movie: 哈囉少女, ID: 10780\n",
      "Movie: 怪胎, ID: 10733\n",
      "Movie: 雙面追緝, ID: 10824\n",
      "Movie: 北海小英雄, ID: 10806\n",
      "Movie: 日間演奏會散場時, ID: 10245\n",
      "Movie: 鋼鐵雨：深潛行動, ID: 10838\n",
      "Movie: 淒厲人僧前傳, ID: 10822\n",
      "Movie: 戀夏時光, ID: 10797\n",
      "Movie: 不丹是教室, ID: 10789\n",
      "Movie: 藍色恐懼：數位修復版, ID: 10775\n",
      "Movie: 打噴嚏, ID: 5350\n",
      "Movie: 角落小夥伴電影版：魔法繪本裡的新朋友, ID: 10647\n",
      "Movie: 死因無可疑, ID: 10755\n",
      "Movie: 頭號粉絲, ID: 10722\n",
      "Movie: 破處, ID: 10641\n",
      "Movie: 萬花嬉春, ID: 10748\n",
      "Movie: 福島50英雄, ID: 10726\n",
      "Movie: 玩命Online：雙槍對決, ID: 10659\n",
      "Movie: 天后小助理, ID: 10559\n",
      "Movie: 明信片謀殺案, ID: 10724\n",
      "Movie: 敢殺就來, ID: 10649\n",
      "Movie: 巴黎寂寞不打烊, ID: 10636\n",
      "Movie: 靠北少女, ID: 10575\n",
      "Movie: 1/2的魔法, ID: 10505\n",
      "Movie: 海邊走走, ID: 10495\n",
      "Movie: 陪你玩最大, ID: 10602\n",
      "Movie: 無聲革命, ID: 10601\n",
      "Movie: 小魔花, ID: 10068\n",
      "Movie: 極地守護犬, ID: 10383\n",
      "Movie: 巧虎電影：英雄遊樂園, ID: 10429\n",
      "Movie: 在時間停止的世界相遇, ID: 10259\n",
      "Movie: 神秘高峰會, ID: 8319\n",
      "Movie: 一首搖滾上月球, ID: 4887\n",
      "Movie: 女朋友。男朋友, ID: 4258\n",
      "Movie: 錢不夠用2, ID: 3026\n"
     ]
    }
   ],
   "source": [
    "# 查看目前上映那些電影，並擷取出其ID資訊\n",
    "url = 'https://movies.yahoo.com.tw/'\n",
    "resp = requests.get(url)\n",
    "resp.encoding = 'utf-8'\n",
    "\n",
    "soup = BeautifulSoup(resp.text, 'lxml')\n",
    "html = soup.find(\"select\", attrs={'name':'movie_id'})\n",
    "movie_item = html.find_all(\"option\", attrs={'data-name':re.compile('.*')})\n",
    "\n",
    "for p in movie_item:\n",
    "    print(\"Movie: %s, ID: %s\" % (p[\"data-name\"], p[\"value\"]))"
   ]
  },
  {
   "cell_type": "markdown",
   "metadata": {},
   "source": [
    "### 指定你有興趣的電影其ID，然後查詢其放映地區資訊。"
   ]
  },
  {
   "cell_type": "code",
   "execution_count": 5,
   "metadata": {},
   "outputs": [],
   "source": [
    "# 參考前一個步驟中擷取到的ID資訊，並指定ID\n",
    "movie_id = 10942"
   ]
  },
  {
   "cell_type": "code",
   "execution_count": 6,
   "metadata": {},
   "outputs": [
    {
     "name": "stdout",
     "output_type": "stream",
     "text": [
      "放映地區: 台北市, 代號(area_id): 28\n",
      "放映地區: 新北市, 代號(area_id): 8\n",
      "放映地區: 桃園, 代號(area_id): 16\n",
      "放映地區: 新竹, 代號(area_id): 20\n",
      "放映地區: 苗栗, 代號(area_id): 15\n",
      "放映地區: 台中, 代號(area_id): 2\n",
      "放映地區: 嘉義, 代號(area_id): 21\n",
      "放映地區: 台南, 代號(area_id): 10\n",
      "放映地區: 高雄, 代號(area_id): 17\n",
      "放映地區: 屏東, 代號(area_id): 14\n",
      "放映地區: 宜蘭, 代號(area_id): 11\n",
      "放映地區: 花蓮, 代號(area_id): 12\n",
      "放映地區: 金門, 代號(area_id): 24\n",
      "放映地區: 澎湖, 代號(area_id): 23\n"
     ]
    }
   ],
   "source": [
    "url = 'https://movies.yahoo.com.tw/api/v1/areas_by_movie_theater'\n",
    "payload = {'movie_id':str(movie_id)}\n",
    "\n",
    "# 模擬一個header\n",
    "headers = {\n",
    "    'authority': 'movies.yahoo.com.tw',\n",
    "    'method': 'GET',\n",
    "    'path': '/api/v1/areas_by_movie_theater?movie_id=' + str(movie_id),\n",
    "    'scheme': 'https',\n",
    "    'accept': 'application/json, text/javascript, */*; q=0.01',\n",
    "    'accept-encoding': 'gzip, deflate, br',\n",
    "    'accept-language': 'zh-TW,zh;q=0.9,en-US;q=0.8,en;q=0.7,zh-CN;q=0.6',\n",
    "    'cookie': 'rxx=9s3x2fws06.1g16irnc&v=1; _ga=GA1.3.2056742944.1551651301; GUC=AQEBAQFczFpdm0IfmwSB&s=AQAAACoo4N5D&g=XMsVBw; BX=4hkdk1decm57t&b=3&s=mr; _ga=GA1.4.2056742944.1551651301; nexagesuid=82843256dd234e8e91aa73f2062f8218; browsed_movie=eyJpdiI6IlJXWWtiSWJaZlNGK2MxQnhscnVUYWc9PSIsInZhbHVlIjoiMXRhMmVHRXRIeUNjc1RBWDJzdGYwbnlIQURmWGsrcjJSMzhkbkcraDNJVUNIZEZsbzU3amlFcVZ1NzlmazJrTGpoMjVrbHk1YmpoRENXaHZTOUw1TmI2ZTZVWHdOejZQZm16RmVuMWlHTTJLaTZLVFZZVkFOMDlTd1wvSGltcytJIiwibWFjIjoiZWQ2ZjA4MmVjZmZlYjlmNjJmYmY2NGMyMDI0Njc0NWViYjVkOWE2NDg0N2RhODMxZjBjZDhiMmJhZTc2MDZhYiJ9; avi=eyJpdiI6Im1NeWFJRlVRWDR1endEcGRGUGJUbVE9PSIsInZhbHVlIjoickRpU3JuUytmcGl6cjF5OW0rNU9iZz09IiwibWFjIjoiY2VmY2NkNzZmM2NhNjY5YzlkOTcyNjE5OGEyMzU0NWYxOTdmMDRkMDY3OWNmMmZjOTMxYjc5MjI5N2Q5NGE5MiJ9; cmp=t=1559391030&j=0; _gid=GA1.4.779543841.1559391031; XSRF-TOKEN=eyJpdiI6IkhpS2hGcDRQaHlmWUJmaHdSS2Q2bHc9PSIsInZhbHVlIjoiOUVoNFk4OHI1UUZmUWRtYXhza0MyWjJSTlhlZ3RnT0VGeVJPN2JuczVRMGRFdWt2OUlsamVKeHRobFwvcHBGM0dhU3VyMXNGTHlsb2dVM2l0U1hpUGxBPT0iLCJtYWMiOiJkZWU4YzJhNjAxMTY3MzE4Y2ExNWIxYmE1ZjE1YWZlZTlhOTcyYjc4M2RlZGY4ZWNjZDYyMTA2NGYwZGViMzc2In0%3D; m_s=eyJpdiI6InpsZHZ2Tk1BZ0dxaHhETml1RjBnUXc9PSIsInZhbHVlIjoiSkNGeHUranRoXC85bDFiaDhySTJqNkJRcWdjWUxjeVRJSHVYZ1wvd2d4bWJZUTUrSHVDM0lUcW5KNHdETFZ4T1lieU81OUhzc1VoUXhZcWk0UDZSQXVFdz09IiwibWFjIjoiYmJkMDJkMDhlODIzMzcyMWY4M2NmYWNjNGVlOWRjMDIwZmVmNzAyMjE3Yzg3ZGY3ODBkZWEzZTI4MTI5ZWNmOSJ9; _gat=1; nexagesd=10',\n",
    "    'dnt': '1',\n",
    "    'mv-authorization': '21835b082e15b91a69b3851eec7b31b82ce82afb',\n",
    "    'referer': 'https://movies.yahoo.com.tw/',\n",
    "    'user-agent': 'Mozilla/5.0 (Windows NT 10.0; Win64; x64) AppleWebKit/537.36 (KHTML, like Gecko) Chrome/74.0.3729.169 Safari/537.36',\n",
    "    'x-requested-with': 'XMLHttpRequest',\n",
    "}\n",
    "    \n",
    "resp = requests.get(url, params=payload, headers=headers)\n",
    "#print(resp.json())  # 若有需要，列印出json原始碼\n",
    "\n",
    "# 這裡回傳的格式是JSON格式的資料，要解析JSON擷取資料\n",
    "for p in resp.json():\n",
    "    print('放映地區: {0}, 代號(area_id): {1}'.format(p['title'], p['area_id']))"
   ]
  },
  {
   "cell_type": "markdown",
   "metadata": {},
   "source": [
    "### 指定你想要觀看的放映地區，查詢有上映電影的場次日期"
   ]
  },
  {
   "cell_type": "code",
   "execution_count": 7,
   "metadata": {},
   "outputs": [],
   "source": [
    "# 指定放映地區\n",
    "area_id = 28"
   ]
  },
  {
   "cell_type": "code",
   "execution_count": 8,
   "metadata": {},
   "outputs": [
    {
     "name": "stdout",
     "output_type": "stream",
     "text": [
      "十月 1\n",
      "十月 2\n",
      "十月 3\n",
      "十月 4\n",
      "十月 5\n"
     ]
    }
   ],
   "source": [
    "# 向網站發送請求\n",
    "url = 'https://movies.yahoo.com.tw/movietime_result.html'\n",
    "payload = {'movie_id':str(movie_id), 'area_id':str(area_id)}\n",
    "resp = requests.get(url, params=payload)\n",
    "resp.encoding = 'utf-8'\n",
    "\n",
    "soup = BeautifulSoup(resp.text, 'lxml')\n",
    "movie_date = soup.find_all(\"label\", attrs={'for':re.compile(\"date_[\\d]\")})\n",
    "\n",
    "# 列印播放日期\n",
    "for date in movie_date:\n",
    "    print(\"%s %s\" % (date.p.string, date.h3.string))"
   ]
  },
  {
   "cell_type": "markdown",
   "metadata": {},
   "source": [
    "### 最後指定觀看的日期，查詢並列印出放映的電影院、放映類型(數位、3D、IMAX 3D...)、放映時間等資訊。"
   ]
  },
  {
   "cell_type": "code",
   "execution_count": 9,
   "metadata": {},
   "outputs": [],
   "source": [
    "# 選定要觀看的日期\n",
    "date = \"2020-10-05\""
   ]
  },
  {
   "cell_type": "code",
   "execution_count": 18,
   "metadata": {},
   "outputs": [
    {
     "data": {
      "text/plain": [
       "bs4.element.ResultSet"
      ]
     },
     "execution_count": 18,
     "metadata": {},
     "output_type": "execute_result"
    }
   ],
   "source": [
    "# 向網站發送請求，獲取上映的電影院及時間資訊\n",
    "url = \"https://movies.yahoo.com.tw/ajax/pc/get_schedule_by_movie\"\n",
    "payload = {'movie_id':str(movie_id),\n",
    "           'date':date,\n",
    "           'area_id':str(area_id),\n",
    "           'theater_id':'',\n",
    "           'datetime':'',\n",
    "           'movie_type_id':''}\n",
    "\n",
    "resp = requests.get(url, params=payload)\n",
    "# print(resp.json()['view'])  # 若有需要，列印出json原始碼\n",
    "\n",
    "soup = BeautifulSoup(resp.json()['view'], 'lxml')\n",
    "html = soup.find_all(\"ul\", attrs={'data-theater_name':re.compile(\".*\")})\n",
    "type(html)"
   ]
  },
  {
   "cell_type": "code",
   "execution_count": 42,
   "metadata": {},
   "outputs": [
    {
     "data": {
      "text/plain": [
       "'\\n電影院:  台北美麗華大直影城\\n放映類型:  數位\\n2019-08-21 09:00:00\\n2019-08-21 11:10:00\\n2019-08-21 13:15:00\\n2019-08-21 15:20:00\\n2019-08-21 19:30:00\\n2019-08-21 21:40:00\\n2019-08-21 22:30:00\\n'"
      ]
     },
     "execution_count": 42,
     "metadata": {},
     "output_type": "execute_result"
    }
   ],
   "source": [
    "'''\n",
    "電影院:  台北美麗華大直影城\n",
    "放映類型:  數位\n",
    "2019-08-21 09:00:00\n",
    "2019-08-21 11:10:00\n",
    "2019-08-21 13:15:00\n",
    "2019-08-21 15:20:00\n",
    "2019-08-21 19:30:00\n",
    "2019-08-21 21:40:00\n",
    "2019-08-21 22:30:00\n",
    "'''"
   ]
  },
  {
   "cell_type": "code",
   "execution_count": 41,
   "metadata": {},
   "outputs": [
    {
     "name": "stdout",
     "output_type": "stream",
     "text": [
      "電影院:  台北美麗華大直影城\n",
      "放映類型:  數位\n",
      "2020-10-05 09:30:00\n",
      "2020-10-05 15:35:00\n",
      "2020-10-05 19:45:00\n",
      "2020-10-05 23:50:00\n",
      "電影院:  台北新光影城\n",
      "放映類型:  數位\n",
      "2020-10-05 14:30:00\n",
      "2020-10-05 21:40:00\n",
      "電影院:  台北in89豪華數位影城\n",
      "放映類型:  數位\n",
      "2020-10-05 11:40:00\n",
      "2020-10-05 14:05:00\n",
      "2020-10-05 15:35:00\n",
      "2020-10-05 18:10:00\n",
      "2020-10-05 21:25:00\n",
      "電影院:  台北信義威秀影城\n",
      "放映類型:  數位\n",
      "2020-10-05 09:35:00\n",
      "2020-10-05 11:35:00\n",
      "2020-10-05 15:10:00\n",
      "2020-10-05 20:45:00\n",
      "2020-10-05 23:45:00\n",
      "電影院:  京站威秀影城\n",
      "放映類型:  數位\n",
      "2020-10-05 10:00:00\n",
      "2020-10-05 15:40:00\n",
      "2020-10-05 19:30:00\n",
      "2020-10-05 23:35:00\n",
      "電影院:  MUVIE CINEMAS台北松仁威秀\n",
      "放映類型:  數位\n",
      "2020-10-05 11:45:00\n",
      "2020-10-05 15:50:00\n",
      "2020-10-05 20:50:00\n"
     ]
    }
   ],
   "source": [
    "for info in html:\n",
    "    theater = info.find('a').text\n",
    "    movie_type = info.find('span', attrs={'class': 'tapR'}).text\n",
    "    print('電影院: ', theater)\n",
    "    print('放映類型: ', movie_type)\n",
    "    for time_info in info.find_all('input', attrs={'value': re.compile('(?s).*')}): # '(?s).*' could match any thing\n",
    "        print(time_info['value']) # Access elements from tags by treating it like a list"
   ]
  },
  {
   "cell_type": "code",
   "execution_count": null,
   "metadata": {},
   "outputs": [],
   "source": []
  }
 ],
 "metadata": {
  "kernelspec": {
   "display_name": "Python 3",
   "language": "python",
   "name": "python3"
  },
  "language_info": {
   "codemirror_mode": {
    "name": "ipython",
    "version": 3
   },
   "file_extension": ".py",
   "mimetype": "text/x-python",
   "name": "python",
   "nbconvert_exporter": "python",
   "pygments_lexer": "ipython3",
   "version": "3.7.3"
  }
 },
 "nbformat": 4,
 "nbformat_minor": 2
}
